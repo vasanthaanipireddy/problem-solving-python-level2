{
 "cells": [
  {
   "cell_type": "markdown",
   "metadata": {},
   "source": [
    "## 09-10-19\n",
    "## data encryption and decryption"
   ]
  },
  {
   "cell_type": "code",
   "execution_count": 1,
   "metadata": {},
   "outputs": [
    {
     "data": {
      "text/plain": [
       "'cdef'"
      ]
     },
     "execution_count": 1,
     "metadata": {},
     "output_type": "execute_result"
    }
   ],
   "source": [
    "data='abcd'\n",
    "encryptdata=''\n",
    "for char in data:\n",
    "    encryptdata+=chr(ord(char)+2)\n",
    "encryptdata"
   ]
  },
  {
   "cell_type": "code",
   "execution_count": 4,
   "metadata": {},
   "outputs": [
    {
     "data": {
      "text/plain": [
       "'abcd'"
      ]
     },
     "execution_count": 4,
     "metadata": {},
     "output_type": "execute_result"
    }
   ],
   "source": [
    "data=encryptdata\n",
    "originaldata=''\n",
    "for char in data:\n",
    "    originaldata+=chr(ord(char)-2)\n",
    "originaldata\n"
   ]
  },
  {
   "cell_type": "code",
   "execution_count": 6,
   "metadata": {},
   "outputs": [],
   "source": [
    "## function to generate key to encrypt data\n",
    "def generatekey(keypath):\n",
    "    with open(keypath,'w')as f:\n",
    "        for i in range(10):\n",
    "            if i<6:\n",
    "                f.write(str(i)+\" \"+str(i+4)+'\\n')\n",
    "            else:\n",
    "                f.write(str(i)+\" \"+str(i-6)+'\\n')\n",
    "        return\n",
    "keypath=\"datafiles/key.txt\" \n",
    "generatekey(keypath)\n",
    "                       "
   ]
  },
  {
   "cell_type": "code",
   "execution_count": 7,
   "metadata": {},
   "outputs": [
    {
     "data": {
      "text/plain": [
       "{'0': '4',\n",
       " '1': '5',\n",
       " '2': '6',\n",
       " '3': '7',\n",
       " '4': '8',\n",
       " '5': '9',\n",
       " '6': '0',\n",
       " '7': '1',\n",
       " '8': '2',\n",
       " '9': '3'}"
      ]
     },
     "execution_count": 7,
     "metadata": {},
     "output_type": "execute_result"
    }
   ],
   "source": [
    "\n",
    "def dictkeyfile(keyfile):\n",
    "    key={}\n",
    "    with open(keyfile,'r')as f:\n",
    "        for line in f:\n",
    "            line=line.split()\n",
    "            key[line[0]]=line[1]\n",
    "        return key\n",
    "keyfile=\"datafiles/key.txt\" \n",
    "k=dictkeyfile(keyfile)\n",
    "k"
   ]
  },
  {
   "cell_type": "code",
   "execution_count": 3,
   "metadata": {},
   "outputs": [
    {
     "ename": "NameError",
     "evalue": "name 'encryptamarksdata' is not defined",
     "output_type": "error",
     "traceback": [
      "\u001b[1;31m---------------------------------------------------------------------------\u001b[0m",
      "\u001b[1;31mNameError\u001b[0m                                 Traceback (most recent call last)",
      "\u001b[1;32m<ipython-input-3-36e1da1ca075>\u001b[0m in \u001b[0;36m<module>\u001b[1;34m\u001b[0m\n\u001b[0;32m     15\u001b[0m \u001b[0mdatafile\u001b[0m\u001b[1;33m=\u001b[0m\u001b[1;34m\"datafiles/encrypt.txt\"\u001b[0m\u001b[1;33m\u001b[0m\u001b[1;33m\u001b[0m\u001b[0m\n\u001b[0;32m     16\u001b[0m \u001b[0mkeyfile\u001b[0m\u001b[1;33m=\u001b[0m\u001b[1;34m\"datafile/key.txt\"\u001b[0m\u001b[1;33m\u001b[0m\u001b[1;33m\u001b[0m\u001b[0m\n\u001b[1;32m---> 17\u001b[1;33m \u001b[0mencryptamarksdata\u001b[0m\u001b[1;33m(\u001b[0m\u001b[0mdatafile\u001b[0m\u001b[1;33m,\u001b[0m\u001b[0mkeyfile\u001b[0m\u001b[1;33m)\u001b[0m\u001b[1;33m\u001b[0m\u001b[1;33m\u001b[0m\u001b[0m\n\u001b[0m",
      "\u001b[1;31mNameError\u001b[0m: name 'encryptamarksdata' is not defined"
     ]
    }
   ],
   "source": [
    "def encryptmarksdata(datafile,keyfile):\n",
    "    key=dictkeyfile(keyfile)\n",
    "    with open(datafile,'r')as f:\n",
    "        filedata=f.read().split('\\n')\n",
    "        print(filedata)\n",
    "    with open(\"datafiles/encryptarks.txt\",\"w\")as f:\n",
    "        for mark in filedata:\n",
    "            print('m',mark)\n",
    "            line=''\n",
    "            for digit in mark:\n",
    "                print(\"d\",digit)\n",
    "                lin+=key[digit]\n",
    "            f.write(line+'\\n')\n",
    "        return\n",
    "datafile=\"datafiles/encrypt.txt\"\n",
    "keyfile=\"datafile/key.txt\"\n",
    "encryptamarksdata(datafile,keyfile)"
   ]
  },
  {
   "cell_type": "code",
   "execution_count": null,
   "metadata": {},
   "outputs": [],
   "source": [
    "def decryptmarksdata(datafile,keyfile):\n",
    "    key=dictkeyfile(keyfile)\n",
    "    newkey={}\n",
    "    for k,v in key.item():\n",
    "        newkey[v]=k\n",
    "    with open(encryptedfile,'r')as f:\n",
    "        encrypteddata=f.read().split('\\n')\n",
    "        ##print(encrypteddata)\n",
    "    with open(\"datafiles/originaldata.txt\",\"w\")as f\n",
    "    for en in filedata:\n",
    "        line=\"\"\n",
    "        for digit in en:\n",
    "            line+=newkey[digit]\n",
    "        f.write(line+'\\n')\n",
    "    return\n",
    "encryptedfile=\"datafiles/encryptmarks.txt\" \n",
    "keyfile=\"datafiles/key.txt\"\n",
    "decryptmarksdata(datafile,keyfile)"
   ]
  }
 ],
 "metadata": {
  "kernelspec": {
   "display_name": "Python 3",
   "language": "python",
   "name": "python3"
  },
  "language_info": {
   "codemirror_mode": {
    "name": "ipython",
    "version": 3
   },
   "file_extension": ".py",
   "mimetype": "text/x-python",
   "name": "python",
   "nbconvert_exporter": "python",
   "pygments_lexer": "ipython3",
   "version": "3.7.3"
  }
 },
 "nbformat": 4,
 "nbformat_minor": 2
}
